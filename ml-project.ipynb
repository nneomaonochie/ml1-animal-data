{
  "cells": [
    {
      "cell_type": "code",
      "execution_count": null,
      "metadata": {},
      "outputs": [],
      "source": [
        "%pip install --upgrade pip\n",
        "\n",
        "%pip install numpy\n",
        "%pip install pandas\n",
        "%pip install matplotlib"
      ]
    },
    {
      "cell_type": "code",
      "execution_count": 6,
      "metadata": {
        "id": "4uPWlmp-YCem"
      },
      "outputs": [],
      "source": [
        "import numpy as np\n",
        "import pandas as pd\n",
        "import matplotlib.pyplot as plt"
      ]
    },
    {
      "cell_type": "code",
      "execution_count": null,
      "metadata": {},
      "outputs": [
        {
          "data": {
            "text/plain": [
              "0         A706918\n",
              "1         A724273\n",
              "2         A857105\n",
              "3         A743852\n",
              "4         A635072\n",
              "           ...   \n",
              "111152    A912346\n",
              "111153    A912468\n",
              "111154    A912501\n",
              "111155    A904754\n",
              "111156    A912037\n",
              "Name: id, Length: 111157, dtype: object"
            ]
          },
          "execution_count": 19,
          "metadata": {},
          "output_type": "execute_result"
        }
      ],
      "source": [
        "df_train = pd.read_csv('train.csv')\n",
        "df_test = pd.read_csv('test.csv')"
      ]
    },
    {
      "cell_type": "code",
      "execution_count": null,
      "metadata": {},
      "outputs": [
        {
          "name": "stdout",
          "output_type": "stream",
          "text": [
            "records with missing names: 31383\n",
            "records that are blank or has numbers: 33168\n"
          ]
        }
      ],
      "source": [
        "## Data Preprocessing ##\n"
      ]
    },
    {
      "cell_type": "code",
      "execution_count": null,
      "metadata": {},
      "outputs": [],
      "source": [
        "# Rebecca's slay data exploration block /ᐠ - ˕ -マ \n",
        "# intake time, color, outcome time, date of birth"
      ]
    },
    {
      "cell_type": "code",
      "execution_count": null,
      "metadata": {},
      "outputs": [],
      "source": [
        "# Nneoma's data visualation\n",
        "print('records with missing names:', df_train['name'].isna().sum())\n",
        "\n",
        "print('records that are blank or has numbers:', non_alpha_values.sum()) # does not wrok but you get the idea. fix pls"
      ]
    }
  ],
  "metadata": {
    "colab": {
      "provenance": []
    },
    "kernelspec": {
      "display_name": "Python 3",
      "name": "python3"
    },
    "language_info": {
      "codemirror_mode": {
        "name": "ipython",
        "version": 3
      },
      "file_extension": ".py",
      "mimetype": "text/x-python",
      "name": "python",
      "nbconvert_exporter": "python",
      "pygments_lexer": "ipython3",
      "version": "3.9.6"
    }
  },
  "nbformat": 4,
  "nbformat_minor": 0
}
