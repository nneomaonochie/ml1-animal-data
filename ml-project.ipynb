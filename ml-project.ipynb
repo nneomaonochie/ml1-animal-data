{
  "cells": [
    {
      "cell_type": "code",
      "execution_count": 2,
      "metadata": {},
      "outputs": [
        {
          "name": "stdout",
          "output_type": "stream",
          "text": [
            "Requirement already satisfied: pip in c:\\users\\nneom\\anaconda3\\lib\\site-packages (24.2)\n",
            "Collecting pip\n",
            "  Using cached pip-25.0.1-py3-none-any.whl.metadata (3.7 kB)\n",
            "Using cached pip-25.0.1-py3-none-any.whl (1.8 MB)\n",
            "Installing collected packages: pip\n",
            "  Attempting uninstall: pip\n",
            "    Found existing installation: pip 24.2\n",
            "    Uninstalling pip-24.2:\n",
            "      Successfully uninstalled pip-24.2\n",
            "Successfully installed pip-25.0.1\n",
            "Note: you may need to restart the kernel to use updated packages.\n",
            "Requirement already satisfied: numpy in c:\\users\\nneom\\anaconda3\\lib\\site-packages (1.26.4)\n",
            "Note: you may need to restart the kernel to use updated packages.\n",
            "Requirement already satisfied: pandas in c:\\users\\nneom\\anaconda3\\lib\\site-packages (2.2.2)\n",
            "Requirement already satisfied: numpy>=1.26.0 in c:\\users\\nneom\\anaconda3\\lib\\site-packages (from pandas) (1.26.4)\n",
            "Requirement already satisfied: python-dateutil>=2.8.2 in c:\\users\\nneom\\anaconda3\\lib\\site-packages (from pandas) (2.9.0.post0)\n",
            "Requirement already satisfied: pytz>=2020.1 in c:\\users\\nneom\\anaconda3\\lib\\site-packages (from pandas) (2024.1)\n",
            "Requirement already satisfied: tzdata>=2022.7 in c:\\users\\nneom\\anaconda3\\lib\\site-packages (from pandas) (2023.3)\n",
            "Requirement already satisfied: six>=1.5 in c:\\users\\nneom\\anaconda3\\lib\\site-packages (from python-dateutil>=2.8.2->pandas) (1.16.0)\n",
            "Note: you may need to restart the kernel to use updated packages.\n",
            "Requirement already satisfied: matplotlib in c:\\users\\nneom\\anaconda3\\lib\\site-packages (3.9.2)\n",
            "Requirement already satisfied: contourpy>=1.0.1 in c:\\users\\nneom\\anaconda3\\lib\\site-packages (from matplotlib) (1.2.0)\n",
            "Requirement already satisfied: cycler>=0.10 in c:\\users\\nneom\\anaconda3\\lib\\site-packages (from matplotlib) (0.11.0)\n",
            "Requirement already satisfied: fonttools>=4.22.0 in c:\\users\\nneom\\anaconda3\\lib\\site-packages (from matplotlib) (4.51.0)\n",
            "Requirement already satisfied: kiwisolver>=1.3.1 in c:\\users\\nneom\\anaconda3\\lib\\site-packages (from matplotlib) (1.4.4)\n",
            "Requirement already satisfied: numpy>=1.23 in c:\\users\\nneom\\anaconda3\\lib\\site-packages (from matplotlib) (1.26.4)\n",
            "Requirement already satisfied: packaging>=20.0 in c:\\users\\nneom\\anaconda3\\lib\\site-packages (from matplotlib) (24.1)\n",
            "Requirement already satisfied: pillow>=8 in c:\\users\\nneom\\anaconda3\\lib\\site-packages (from matplotlib) (10.4.0)\n",
            "Requirement already satisfied: pyparsing>=2.3.1 in c:\\users\\nneom\\anaconda3\\lib\\site-packages (from matplotlib) (3.1.2)\n",
            "Requirement already satisfied: python-dateutil>=2.7 in c:\\users\\nneom\\anaconda3\\lib\\site-packages (from matplotlib) (2.9.0.post0)\n",
            "Requirement already satisfied: six>=1.5 in c:\\users\\nneom\\anaconda3\\lib\\site-packages (from python-dateutil>=2.7->matplotlib) (1.16.0)\n",
            "Note: you may need to restart the kernel to use updated packages.\n"
          ]
        }
      ],
      "source": [
        "%pip install --upgrade pip\n",
        "\n",
        "%pip install numpy\n",
        "%pip install pandas\n",
        "%pip install matplotlib"
      ]
    },
    {
      "cell_type": "code",
      "execution_count": 3,
      "metadata": {
        "id": "4uPWlmp-YCem"
      },
      "outputs": [],
      "source": [
        "import numpy as np\n",
        "import pandas as pd\n",
        "import matplotlib.pyplot as plt"
      ]
    },
    {
      "cell_type": "code",
      "execution_count": 4,
      "metadata": {},
      "outputs": [],
      "source": [
        "df_train = pd.read_csv('train.csv')\n",
        "df_test = pd.read_csv('test.csv')"
      ]
    },
    {
      "cell_type": "code",
      "execution_count": 21,
      "metadata": {},
      "outputs": [
        {
          "data": {
            "text/html": [
              "<div>\n",
              "<style scoped>\n",
              "    .dataframe tbody tr th:only-of-type {\n",
              "        vertical-align: middle;\n",
              "    }\n",
              "\n",
              "    .dataframe tbody tr th {\n",
              "        vertical-align: top;\n",
              "    }\n",
              "\n",
              "    .dataframe thead th {\n",
              "        text-align: right;\n",
              "    }\n",
              "</style>\n",
              "<table border=\"1\" class=\"dataframe\">\n",
              "  <thead>\n",
              "    <tr style=\"text-align: right;\">\n",
              "      <th></th>\n",
              "      <th>id</th>\n",
              "      <th>name</th>\n",
              "      <th>intake_time</th>\n",
              "      <th>found_location</th>\n",
              "      <th>intake_type</th>\n",
              "      <th>intake_condition</th>\n",
              "      <th>animal_type</th>\n",
              "      <th>sex_upon_intake</th>\n",
              "      <th>age_upon_intake</th>\n",
              "      <th>breed</th>\n",
              "      <th>color</th>\n",
              "      <th>outcome_time</th>\n",
              "      <th>date_of_birth</th>\n",
              "      <th>outcome_type</th>\n",
              "    </tr>\n",
              "  </thead>\n",
              "  <tbody>\n",
              "    <tr>\n",
              "      <th>count</th>\n",
              "      <td>111157</td>\n",
              "      <td>79774</td>\n",
              "      <td>111157</td>\n",
              "      <td>111157</td>\n",
              "      <td>111157</td>\n",
              "      <td>111157</td>\n",
              "      <td>111157</td>\n",
              "      <td>111155</td>\n",
              "      <td>111156</td>\n",
              "      <td>111157</td>\n",
              "      <td>111157</td>\n",
              "      <td>111157</td>\n",
              "      <td>111157</td>\n",
              "      <td>111157</td>\n",
              "    </tr>\n",
              "    <tr>\n",
              "      <th>unique</th>\n",
              "      <td>111157</td>\n",
              "      <td>24185</td>\n",
              "      <td>78769</td>\n",
              "      <td>48762</td>\n",
              "      <td>6</td>\n",
              "      <td>19</td>\n",
              "      <td>2</td>\n",
              "      <td>5</td>\n",
              "      <td>48</td>\n",
              "      <td>2440</td>\n",
              "      <td>569</td>\n",
              "      <td>95134</td>\n",
              "      <td>8181</td>\n",
              "      <td>5</td>\n",
              "    </tr>\n",
              "    <tr>\n",
              "      <th>top</th>\n",
              "      <td>A706918</td>\n",
              "      <td>Luna</td>\n",
              "      <td>09/23/2016 12:00:00 PM</td>\n",
              "      <td>Austin (TX)</td>\n",
              "      <td>Stray</td>\n",
              "      <td>Normal</td>\n",
              "      <td>Dog</td>\n",
              "      <td>Intact Male</td>\n",
              "      <td>2 years</td>\n",
              "      <td>Domestic Shorthair Mix</td>\n",
              "      <td>Black/White</td>\n",
              "      <td>04/18/2016 12:00:00 AM</td>\n",
              "      <td>05/05/2014</td>\n",
              "      <td>Adoption</td>\n",
              "    </tr>\n",
              "    <tr>\n",
              "      <th>freq</th>\n",
              "      <td>1</td>\n",
              "      <td>481</td>\n",
              "      <td>49</td>\n",
              "      <td>19071</td>\n",
              "      <td>82163</td>\n",
              "      <td>95010</td>\n",
              "      <td>61378</td>\n",
              "      <td>41060</td>\n",
              "      <td>16192</td>\n",
              "      <td>25361</td>\n",
              "      <td>11620</td>\n",
              "      <td>28</td>\n",
              "      <td>85</td>\n",
              "      <td>55044</td>\n",
              "    </tr>\n",
              "  </tbody>\n",
              "</table>\n",
              "</div>"
            ],
            "text/plain": [
              "             id   name             intake_time found_location intake_type  \\\n",
              "count    111157  79774                  111157         111157      111157   \n",
              "unique   111157  24185                   78769          48762           6   \n",
              "top     A706918   Luna  09/23/2016 12:00:00 PM    Austin (TX)       Stray   \n",
              "freq          1    481                      49          19071       82163   \n",
              "\n",
              "       intake_condition animal_type sex_upon_intake age_upon_intake  \\\n",
              "count            111157      111157          111155          111156   \n",
              "unique               19           2               5              48   \n",
              "top              Normal         Dog     Intact Male         2 years   \n",
              "freq              95010       61378           41060           16192   \n",
              "\n",
              "                         breed        color            outcome_time  \\\n",
              "count                   111157       111157                  111157   \n",
              "unique                    2440          569                   95134   \n",
              "top     Domestic Shorthair Mix  Black/White  04/18/2016 12:00:00 AM   \n",
              "freq                     25361        11620                      28   \n",
              "\n",
              "       date_of_birth outcome_type  \n",
              "count         111157       111157  \n",
              "unique          8181            5  \n",
              "top       05/05/2014     Adoption  \n",
              "freq              85        55044  "
            ]
          },
          "execution_count": 21,
          "metadata": {},
          "output_type": "execute_result"
        }
      ],
      "source": [
        "df_train.describe()\n"
      ]
    },
    {
      "cell_type": "code",
      "execution_count": null,
      "metadata": {},
      "outputs": [],
      "source": [
        "## Data Preprocessing ##\n",
        "'''\n",
        "print('records with missing names:', df_train['name'].isna().sum())\n",
        "\n",
        "print('records that are blank or has numbers:', non_alpha_values.sum()) # does not wrok but you get the idea. fix pls\n",
        "'''"
      ]
    },
    {
      "cell_type": "code",
      "execution_count": null,
      "metadata": {},
      "outputs": [],
      "source": [
        "# Rebecca's slay data exploration block /ᐠ - ˕ -マ \n",
        "# intake time, color, outcome time, date of birth"
      ]
    },
    {
      "cell_type": "code",
      "execution_count": null,
      "metadata": {},
      "outputs": [
        {
          "name": "stdout",
          "output_type": "stream",
          "text": [
            "intake_type\n",
            "Stray                 82163\n",
            "Owner Surrender       21447\n",
            "Public Assist          6131\n",
            "Abandoned              1233\n",
            "Euthanasia Request      182\n",
            "Wildlife                  1\n",
            "Name: count, dtype: int64\n",
            "0\n",
            "51648              Stray\n",
            "81444    Owner Surrender\n",
            "10627              Stray\n",
            "78201              Stray\n",
            "41279    Owner Surrender\n",
            "              ...       \n",
            "47527              Stray\n",
            "52678              Stray\n",
            "34145              Stray\n",
            "80860              Stray\n",
            "12342    Owner Surrender\n",
            "Name: intake_type, Length: 100, dtype: object\n"
          ]
        },
        {
          "data": {
            "image/png": "[encoded data removed]",
            "text/plain": [
              "<Figure size 640x480 with 1 Axes>"
            ]
          },
          "metadata": {},
          "output_type": "display_data"
        }
      ],
      "source": [
        "# Nneoma's data visualation\n",
        "\n",
        "# I am going to look at the Intake Type\n",
        "\n",
        "print(df_train['intake_type'].value_counts())\n",
        "plt.pie(df_train['intake_type'].value_counts(), labels=df_train['intake_type'].value_counts().index, autopct='%1.1f%%', startangle=90)\n",
        "\n",
        "print(df_train['intake_type'].isna().sum())"
      ]
    },
    {
      "cell_type": "code",
      "execution_count": 43,
      "metadata": {},
      "outputs": [],
      "source": [
        "#df_train['intake_type'].corr(df_train['intake_condition'])"
      ]
    },
    {
      "cell_type": "code",
      "execution_count": null,
      "metadata": {},
      "outputs": [],
      "source": []
    }
  ],
  "metadata": {
    "colab": {
      "provenance": []
    },
    "kernelspec": {
      "display_name": "base",
      "language": "python",
      "name": "python3"
    },
    "language_info": {
      "codemirror_mode": {
        "name": "ipython",
        "version": 3
      },
      "file_extension": ".py",
      "mimetype": "text/x-python",
      "name": "python",
      "nbconvert_exporter": "python",
      "pygments_lexer": "ipython3",
      "version": "3.12.7"
    }
  },
  "nbformat": 4,
  "nbformat_minor": 0
}
