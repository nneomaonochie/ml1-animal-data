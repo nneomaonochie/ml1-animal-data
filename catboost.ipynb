{
 "cells": [
  {
   "cell_type": "code",
   "execution_count": null,
   "id": "54aabda9",
   "metadata": {},
   "outputs": [],
   "source": [
    "%pip install nbformat\n",
    "%pip install imbalanced-learn"
   ]
  },
  {
   "cell_type": "code",
   "execution_count": null,
   "id": "3cf9fe03",
   "metadata": {},
   "outputs": [],
   "source": [
    "import nbformat\n",
    "\n",
    "# Read your notebook (assuming version 4 for example purposes)\n",
    "nb = nbformat.read(\"ml_project.ipynb\", as_version=4)\n",
    "\n",
    "# Normalize the notebook to add missing id fields and other updates\n",
    "nbformat.validator.validate(nb)\n",
    "\n",
    "# Write the normalized notebook back to a file\n",
    "nbformat.write(nb, \"ml_project_normalized.ipynb\")"
   ]
  },
  {
   "cell_type": "code",
   "execution_count": null,
   "id": "69fcbcf0",
   "metadata": {},
   "outputs": [],
   "source": [
    "from imblearn.over_sampling import SMOTE\n",
    "from imblearn.pipeline import Pipeline\n",
    "from sklearn.model_selection import RandomizedSearchCV\n",
    "from catboost import CatBoostClassifier\n",
    "\n",
    "def train_classifier(X_train, y_train, X_test, rare_classes, categorical_features):\n",
    "  \"\"\"\n",
    "  Trains a CatBoost model using SMOTE for class balancing and hyperparameter tuning.\n",
    "  CatBoost handles categorical features natively.\n",
    "\n",
    "  Parameters:\n",
    "    X_train (pd.DataFrame): Training features.\n",
    "    y_train (pd.Series or np.array): Training target values.\n",
    "    X_test (pd.DataFrame): Test features.\n",
    "    rare_classes (list): List of integer-encoded classes to be oversampled with SMOTE.\n",
    "    categorical_features (list): List of column names or indices for categorical features.\n",
    "\n",
    "  Returns:\n",
    "    best_estimator: The best estimator from RandomizedSearchCV.\n",
    "    test_predictions: The predicted labels for X_test from the best estimator.\n",
    "  \"\"\"\n",
    "\n",
    "  # SMOTE for class imbalance (only applied to rare classes)\n",
    "  smote = SMOTE(sampling_strategy={cls: y_train.value_counts().max() for cls in rare_classes}, random_state=42)\n",
    "\n",
    "  # CatBoost classifier\n",
    "  catboost_clf = CatBoostClassifier(\n",
    "    verbose=0,\n",
    "    cat_features=categorical_features,\n",
    "    random_state=42\n",
    "  )\n",
    "\n",
    "  # Define pipeline\n",
    "  pipeline = Pipeline([\n",
    "    ('smote', smote),\n",
    "    ('clf', catboost_clf)\n",
    "  ])\n",
    "\n",
    "  # Define hyperparameter search space\n",
    "  param_dist = {\n",
    "    'clf__iterations': [100, 300, 500],\n",
    "    'clf__depth': [4, 6, 8, 10],\n",
    "    'clf__learning_rate': [0.01, 0.05, 0.1],\n",
    "    'clf__l2_leaf_reg': [1, 3, 5, 7]\n",
    "  }\n",
    "\n",
    "  # Randomized search\n",
    "  search = RandomizedSearchCV(\n",
    "    estimator=pipeline,\n",
    "    param_distributions=param_dist,\n",
    "    n_iter=10,\n",
    "    cv=3,\n",
    "    scoring='accuracy',\n",
    "    verbose=1,\n",
    "    random_state=42,\n",
    "    n_jobs=-1\n",
    "  )\n",
    "\n",
    "  # Fit model\n",
    "  search.fit(X_train, y_train)\n",
    "\n",
    "  # Predict on test set\n",
    "  test_predictions = search.predict(X_test)\n",
    "\n",
    "  return search.best_estimator_, test_predictions\n"
   ]
  },
  {
   "cell_type": "code",
   "execution_count": null,
   "id": "82f1ab45",
   "metadata": {},
   "outputs": [],
   "source": [
    "X_train = df_train.drop(columns=['outcome_type'])\n",
    "y_train = df_train['outcome_type']\n",
    "\n",
    "X_test = df_test.drop(columns=['outcome_type'])\n",
    "y_test = df_test['outcome_type']"
   ]
  }
 ],
 "metadata": {
  "language_info": {
   "name": "python"
  }
 },
 "nbformat": 4,
 "nbformat_minor": 5
}
