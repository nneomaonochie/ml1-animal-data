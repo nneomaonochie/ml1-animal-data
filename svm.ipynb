{
 "cells": [
  {
   "cell_type": "code",
   "execution_count": null,
   "id": "71ce74e9",
   "metadata": {},
   "outputs": [
    {
     "name": "stdout",
     "output_type": "stream",
     "text": [
      "Requirement already satisfied: nbformat in /u/nneoma/.local/lib/python3.8/site-packages (5.10.4)\n",
      "Requirement already satisfied: jupyter-core!=5.0.*,>=4.12 in /u/nneoma/.local/lib/python3.8/site-packages (from nbformat) (5.7.2)\n",
      "Requirement already satisfied: fastjsonschema>=2.15 in /u/nneoma/.local/lib/python3.8/site-packages (from nbformat) (2.21.1)\n",
      "Requirement already satisfied: traitlets>=5.1 in /u/nneoma/.local/lib/python3.8/site-packages (from nbformat) (5.14.3)\n",
      "Requirement already satisfied: jsonschema>=2.6 in /u/nneoma/.local/lib/python3.8/site-packages (from nbformat) (4.23.0)\n",
      "Requirement already satisfied: platformdirs>=2.5 in /u/nneoma/.local/lib/python3.8/site-packages (from jupyter-core!=5.0.*,>=4.12->nbformat) (4.3.6)\n",
      "Requirement already satisfied: pkgutil-resolve-name>=1.3.10; python_version < \"3.9\" in /u/nneoma/.local/lib/python3.8/site-packages (from jsonschema>=2.6->nbformat) (1.3.10)\n",
      "Requirement already satisfied: referencing>=0.28.4 in /u/nneoma/.local/lib/python3.8/site-packages (from jsonschema>=2.6->nbformat) (0.35.1)\n",
      "Requirement already satisfied: jsonschema-specifications>=2023.03.6 in /u/nneoma/.local/lib/python3.8/site-packages (from jsonschema>=2.6->nbformat) (2023.12.1)\n",
      "Requirement already satisfied: attrs>=22.2.0 in /u/nneoma/.local/lib/python3.8/site-packages (from jsonschema>=2.6->nbformat) (25.3.0)\n",
      "Requirement already satisfied: importlib-resources>=1.4.0; python_version < \"3.9\" in /u/nneoma/.local/lib/python3.8/site-packages (from jsonschema>=2.6->nbformat) (6.4.5)\n",
      "Requirement already satisfied: rpds-py>=0.7.1 in /u/nneoma/.local/lib/python3.8/site-packages (from jsonschema>=2.6->nbformat) (0.20.1)\n",
      "Requirement already satisfied: zipp>=3.1.0; python_version < \"3.10\" in /u/nneoma/.local/lib/python3.8/site-packages (from importlib-resources>=1.4.0; python_version < \"3.9\"->jsonschema>=2.6->nbformat) (3.20.2)\n",
      "Note: you may need to restart the kernel to use updated packages.\n"
     ]
    }
   ],
   "source": [
    "# %pip install nbformat"
   ]
  },
  {
   "cell_type": "code",
   "execution_count": 2,
   "id": "d87c920e",
   "metadata": {},
   "outputs": [],
   "source": [
    "import nbformat\n",
    "\n",
    "# Read your notebook (assuming version 4 for example purposes)\n",
    "nb = nbformat.read(\"ml_project.ipynb\", as_version=4)\n",
    "\n",
    "# Normalize the notebook to add missing id fields and other updates\n",
    "nbformat.validator.validate(nb)\n",
    "\n",
    "# Write the normalized notebook back to a file\n",
    "nbformat.write(nb, \"ml_project_normalized.ipynb\")"
   ]
  },
  {
   "cell_type": "code",
   "execution_count": 3,
   "id": "8b38f54c",
   "metadata": {},
   "outputs": [
    {
     "name": "stdout",
     "output_type": "stream",
     "text": [
      "Requirement already satisfied: xgboost in /u/nneoma/.local/lib/python3.8/site-packages (2.1.4)\n",
      "Requirement already satisfied: numpy in /usr/lib/python3/dist-packages (from xgboost) (1.17.4)\n",
      "Requirement already satisfied: scipy in /u/nneoma/.local/lib/python3.8/site-packages (from xgboost) (1.10.1)\n",
      "Note: you may need to restart the kernel to use updated packages.\n"
     ]
    },
    {
     "name": "stderr",
     "output_type": "stream",
     "text": [
      "/u/nneoma/.local/lib/python3.8/site-packages/scipy/__init__.py:143: UserWarning: A NumPy version >=1.19.5 and <1.27.0 is required for this version of SciPy (detected version 1.17.4)\n",
      "  warnings.warn(f\"A NumPy version >={np_minversion} and <{np_maxversion}\"\n"
     ]
    },
    {
     "name": "stdout",
     "output_type": "stream",
     "text": [
      "dropped columns\n",
      "cleaned intake time\n",
      "cleaned intake condition\n",
      "cleaned age and sex\n",
      "cleaned breed\n",
      "cleaned color\n",
      "dropped columns\n",
      "cleaned intake time\n",
      "cleaned intake condition\n",
      "cleaned age and sex\n",
      "cleaned breed\n",
      "cleaned color\n",
      "Done running ml_project.ipynb.\n"
     ]
    }
   ],
   "source": [
    "%run ml_project_normalized.ipynb"
   ]
  },
  {
   "cell_type": "code",
   "execution_count": 1,
   "id": "e3b5d9cc",
   "metadata": {},
   "outputs": [
    {
     "name": "stderr",
     "output_type": "stream",
     "text": [
      "/u/nneoma/.local/lib/python3.8/site-packages/scipy/__init__.py:143: UserWarning: A NumPy version >=1.19.5 and <1.27.0 is required for this version of SciPy (detected version 1.17.4)\n",
      "  warnings.warn(f\"A NumPy version >={np_minversion} and <{np_maxversion}\"\n"
     ]
    }
   ],
   "source": [
    "from sklearn.preprocessing import OneHotEncoder, FunctionTransformer\n",
    "#from sklearn.pipeline import Pipeline\n",
    "from imblearn.pipeline import Pipeline\n",
    "from sklearn.model_selection import RandomizedSearchCV, cross_val_score, train_test_split\n",
    "from sklearn.naive_bayes import MultinomialNB\n",
    "from sklearn.metrics import confusion_matrix, classification_report\n",
    "from imblearn.over_sampling import SMOTE, SMOTENC"
   ]
  },
  {
   "cell_type": "code",
   "execution_count": null,
   "id": "0db76efa",
   "metadata": {},
   "outputs": [
    {
     "ename": "IndentationError",
     "evalue": "expected an indented block (438336858.py, line 3)",
     "output_type": "error",
     "traceback": [
      "\u001b[0;36m  Cell \u001b[0;32mIn[3], line 3\u001b[0;36m\u001b[0m\n\u001b[0;31m    pipeline = Pipeline([\u001b[0m\n\u001b[0m    ^\u001b[0m\n\u001b[0;31mIndentationError\u001b[0m\u001b[0;31m:\u001b[0m expected an indented block\n"
     ]
    }
   ],
   "source": [
    "from sklearn.compose import ColumnTransformer\n",
    "from sklearn.svm import LinearSVC\n",
    "\n",
    "def train_SVM_classifier(X_train, y_train, X_test):\n",
    "\n",
    "    pipeline = Pipeline([\n",
    "        ('smote', SMOTENC(categorical_features=[0, 1, 2, 3, 5, 6, 7, 8, 9, 10, 11], random_state=42)),# 'intake_type', 'intake_condition', 'animal_type', 'sex_upon_intake', 'breed', 'is_mix', 'primary_color'], random_state=42)),\n",
    "        ('freq', FunctionTransformer(apply_freq_encode, validate=False)),\n",
    "        ('onehot', OneHotEncoder( handle_unknown='ignore', sparse_output=True)),\n",
    "        ('linsvc', LinearSVC(class_weight='balanced', max_iter=10000, dual=False))\n",
    "    ])\n",
    "\n",
    "    # Set up parameter distributions for XGBoost.\n",
    "    param_distributions = {\n",
    "    'linsvc__C': [0.01, 0.1, 1, 10],\n",
    "    'linsvc__loss': ['squared_hinge'],  # 'hinge' is okay too, but 'squared_hinge' usually works better\n",
    "    'linsvc__penalty': ['l2'],  # 'l1' can only be used with dual=False and 'liblinear' solver\n",
    "    'linsvc__max_iter': [1000, 5000, 10000],\n",
    "    'linsvc__multi_class': ['ovr', 'crammer_singer'],  # try both strategies\n",
    "    }\n",
    "    # Perform hyperparameter search using RandomizedSearchCV.\n",
    "    randomized_search = RandomizedSearchCV(\n",
    "        estimator=pipeline, \n",
    "        param_distributions=param_distributions,\n",
    "        n_iter=1,\n",
    "        cv=skf, \n",
    "        scoring=balanced_acc_scorer, \n",
    "        verbose=3,\n",
    "    )\n",
    "\n",
    "        \n",
    "        # Set up parameter distributions for XGBoost.\n",
    "        param_distributions = {\n",
    "            \"nb__alpha\": [0.1, 0.5, 1, 2, 5, 10],\n",
    "        }\n",
    "        \n",
    "        # Perform hyperparameter search using RandomizedSearchCV.\n",
    "        randomized_search = RandomizedSearchCV(\n",
    "            estimator=pipeline, \n",
    "            param_distributions=param_distributions,\n",
    "            n_iter=1,\n",
    "            cv=5, \n",
    "            scoring='balanced_accuracy', \n",
    "            verbose=3,\n",
    "        )\n",
    "        \n",
    "        randomized_search.fit(X_resampled, y_resampled)\n",
    "        \n",
    "        print('Best parameters:', randomized_search.best_params_)\n",
    "        print('Best cross-validation accuracy:', randomized_search.best_score_)\n",
    "        \n",
    "        cv_scores = cross_val_score(randomized_search.best_estimator_, X_resampled, y_resampled, cv=5, verbose=3, scoring='balanced_accuracy')\n",
    "        print('Generalization Balanced accuracy (via cross_val_score):', cv_scores.mean())\n",
    "\n",
    "        # Make predictions on the test set using the best estimator.\n",
    "        test_predictions = randomized_search.predict(X_test)\n",
    "        \n",
    "    return randomized_search.best_estimator_, test_predictions\n"
   ]
  }
 ],
 "metadata": {
  "kernelspec": {
   "display_name": "Python 3",
   "language": "python",
   "name": "python3"
  },
  "language_info": {
   "codemirror_mode": {
    "name": "ipython",
    "version": 3
   },
   "file_extension": ".py",
   "mimetype": "text/x-python",
   "name": "python",
   "nbconvert_exporter": "python",
   "pygments_lexer": "ipython3",
   "version": "3.8.10"
  }
 },
 "nbformat": 4,
 "nbformat_minor": 5
}
